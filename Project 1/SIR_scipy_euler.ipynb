{
 "cells": [
  {
   "cell_type": "code",
   "execution_count": 69,
   "metadata": {},
   "outputs": [],
   "source": [
    "import numpy as np\n",
    "import matplotlib.pyplot as plt\n",
    "import torch as t\n",
    "from scipy.integrate import odeint\n",
    "\n",
    "\n",
    "\n",
    "\n",
    "BetaiScaled = 8   # Initial rate constant per infected per day\n",
    "Betai = BetaiScaled/10000\n",
    "\n",
    "Gammai = 0.25     # Initial recoveries per person per day\n",
    "kvi = 0         # Initial vaccination rate\n",
    "\n",
    "Br  = 500                               # Birthrate (all susceptible)\n",
    "Muall = 0.1                            # Mortality rate\n",
    "ts=1\n",
    "\n",
    "\n",
    "\n",
    "\n",
    "# Specify Initial Steady-State Values\n",
    "# These are the equations for the \"interesting\" initial steady-states\n",
    "\n",
    "Si = (Gammai + Muall)/Betai          #Initial Susceptible Population\n",
    "Ii = Br/(Gammai+Muall)-(Muall+kvi)/Betai    #Initial Infected/Infectious Population\n",
    "\n",
    "Ri = Br/Muall - Si - Ii               #Initial Removed Population\n",
    "Ni = Ri+Ii+Si                        #Total Population\n",
    "\n",
    "x0=np.array([Si,Ii])\n",
    "st=x0\n",
    "\n",
    "S=st[0]\n",
    "I=st[1]\n",
    "\n",
    "Beta=u[0]\n",
    "kv=u[1]\n",
    "# the model equations (see Munz et al. 2009)\n",
    "\n",
    "u0=np.array([Betai,kvi])\n",
    "Tstop=160\n",
    "t_space = np.linspace(0,Tstop,int((Tstop/ts)+1))\n",
    "\n",
    "u=np.zeros([2,int((Tstop/ts)+1)])\n",
    "u[0][0:10]=Betai\n",
    "u[0][10:]=0.5*Betai\n",
    "u[1][0:50]=kvi\n",
    "u[1][50:]=kvi\n",
    "\n",
    "\n",
    "S_t = np.empty_like(t_space)\n",
    "I_t = np.empty_like(t_space)\n",
    "S_t[0] = x0[0]\n",
    "I_t[0] = x0[1]\n",
    "\n",
    "\n",
    "# solve ODE\n",
    "for i in range(1,int((Tstop/ts)+1)):\n",
    "    # span for next time step\n",
    "    S=st[0]\n",
    "    I=st[1]\n",
    "    Beta=u[0][i]\n",
    "    kv=u[1][i]\n",
    "        # store solution for plotting\n",
    "    S_t[i] = st[0]\n",
    "    I_t[i] = st[1]\n",
    "    # next initial \n",
    "    f0 = Br - Beta*S*I - Muall*S-kv*S\n",
    "    f1 = Beta*S*I - Gammai*I - Muall*I\n",
    "    f_vec=np.array([f0,f1])\n",
    "\n",
    "    # solve for next step\n",
    "    # x = odeint(f,x0,tspan,args=(u[:,i],))\n",
    "    st=st+ts*f_vec\n",
    "    \n",
    "\n",
    "    \n",
    "\n",
    "\n",
    "\n",
    "# solve the DEs\n",
    "# soln = odeint(f, x0, t,args=u)\n",
    "# S_t = soln[:, 0]\n",
    "# I_t = soln[:, 1]\n",
    "# Beta_t = soln[:, 2]\n",
    "# kv_t = soln[:, 3]\n",
    "# gamma_t = soln[:, 4]\n",
    "\n",
    "\n",
    "\n"
   ]
  },
  {
   "cell_type": "code",
   "execution_count": 70,
   "metadata": {},
   "outputs": [
    {
     "data": {
      "text/plain": [
       "[<matplotlib.lines.Line2D at 0x175cdc9a9e0>]"
      ]
     },
     "execution_count": 70,
     "metadata": {},
     "output_type": "execute_result"
    },
    {
     "data": {
      "image/png": "[encoded data removed]",
      "text/plain": [
       "<Figure size 640x480 with 1 Axes>"
      ]
     },
     "metadata": {},
     "output_type": "display_data"
    }
   ],
   "source": [
    "\n",
    "plt.plot(t_space,I_t,'r--',label='y(t)')"
   ]
  },
  {
   "cell_type": "code",
   "execution_count": 71,
   "metadata": {},
   "outputs": [
    {
     "data": {
      "text/plain": [
       "161"
      ]
     },
     "execution_count": 71,
     "metadata": {},
     "output_type": "execute_result"
    }
   ],
   "source": [
    "int((Tstop/ts)+1)"
   ]
  }
 ],
 "metadata": {
  "kernelspec": {
   "display_name": "Python 3.10.8 64-bit",
   "language": "python",
   "name": "python3"
  },
  "language_info": {
   "codemirror_mode": {
    "name": "ipython",
    "version": 3
   },
   "file_extension": ".py",
   "mimetype": "text/x-python",
   "name": "python",
   "nbconvert_exporter": "python",
   "pygments_lexer": "ipython3",
   "version": "3.10.8"
  },
  "orig_nbformat": 4,
  "vscode": {
   "interpreter": {
    "hash": "3cb68e53fd17226b6fad64f64726c25fe33ab50a69a2c8283608ad86277af543"
   }
  }
 },
 "nbformat": 4,
 "nbformat_minor": 2
}
