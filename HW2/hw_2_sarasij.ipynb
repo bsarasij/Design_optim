{
 "cells": [
  {
   "cell_type": "markdown",
   "metadata": {},
   "source": []
  },
  {
   "cell_type": "markdown",
   "metadata": {},
   "source": [
    "## Gradient Descent"
   ]
  },
  {
   "cell_type": "code",
   "execution_count": 112,
   "metadata": {},
   "outputs": [],
   "source": [
    "\n",
    "import numpy as np\n",
    "\n",
    "def objective(x): \n",
    "    return (2 - 2*x[0] - 3*x[1])**2 + (x[0])**2 + (x[1] - 1)**2  # Objective function for the unconstrained problem\n",
    "def gradient(x): \n",
    "    return np.array([ 10*x[0]+12*x[1]-8, 12*x[0]+20*x[1]-14])  \n",
    "def hessian(x): \n",
    "    return np.array([[10,12],[12,20]])"
   ]
  },
  {
   "cell_type": "code",
   "execution_count": 122,
   "metadata": {},
   "outputs": [],
   "source": [
    "eps = 1e-7  # tolerance\n",
    "x0 = [10 , 20]  # initial value\n",
    "\n",
    "k_max=50\n",
    "t=0.1\n",
    "x_val=[]\n",
    "obj_val=[]\n",
    "grad_val=[]\n"
   ]
  },
  {
   "cell_type": "code",
   "execution_count": 123,
   "metadata": {},
   "outputs": [],
   "source": [
    "\n",
    "\n",
    "def phi(x,alpha):\n",
    "   return objective(x) - (t * np.matmul(gradient(x).T,gradient(x)) * alpha)\n",
    "\n",
    "def alpha_update(x):\n",
    "    alpha = 1\n",
    "    k = 0  \n",
    "    while objective(x - alpha*gradient(x)) > phi(x,alpha) and k<k_max: # Gradient descent algorithm\n",
    "        alpha = 0.5 * alpha\n",
    "        k=k+1\n",
    "    return alpha\n",
    "#\n",
    "\n",
    "while np.linalg.norm(gradient(x0))>eps :\n",
    "    x_val.append(x0)\n",
    "    grad_val.append(np.linalg.norm(gradient(x0)))\n",
    "    obj_val.append(objective(x0))\n",
    "    \n",
    "    alpha=alpha_update(x0)\n",
    "    x0=x0-alpha*gradient(x0)\n",
    "\n",
    "\n",
    "\n"
   ]
  },
  {
   "cell_type": "markdown",
   "metadata": {},
   "source": [
    "Plot for convergence"
   ]
  },
  {
   "cell_type": "code",
   "execution_count": 124,
   "metadata": {},
   "outputs": [
    {
     "data": {
      "image/png": "[encoded data removed]",
      "text/plain": [
       "<Figure size 640x480 with 1 Axes>"
      ]
     },
     "metadata": {},
     "output_type": "display_data"
    }
   ],
   "source": [
    "import matplotlib.pyplot as plt\n",
    "plt.plot(np.arange(len(grad_val)),np.abs(obj_val-obj_val[-1]))\n",
    "plt.yscale('log')"
   ]
  },
  {
   "cell_type": "code",
   "execution_count": 93,
   "metadata": {},
   "outputs": [
    {
     "data": {
      "text/plain": [
       "array([-0.14285711,  0.78571426])"
      ]
     },
     "execution_count": 93,
     "metadata": {},
     "output_type": "execute_result"
    }
   ],
   "source": [
    "x0"
   ]
  },
  {
   "cell_type": "markdown",
   "metadata": {},
   "source": [
    "## Newton's Method"
   ]
  },
  {
   "cell_type": "code",
   "execution_count": 97,
   "metadata": {},
   "outputs": [],
   "source": [
    "eps = 1e-7  # tolerance\n",
    "x0 = np.array([10 , 20])\n",
    "x1=np.array([0 , 0])\n",
    "k=0\n",
    "obj_value=[]\n",
    "grad_value=[]"
   ]
  },
  {
   "cell_type": "code",
   "execution_count": 111,
   "metadata": {},
   "outputs": [],
   "source": [
    "\n",
    "while np.linalg.norm(x1-x0)>eps and k<k_max:\n",
    "    x1=x0-np.matmul(np.linalg.inv(hessian(x0)),gradient(x0))\n",
    "    grad_value.append(np.linalg.norm(gradient(x0)))\n",
    "    obj_value.append(objective(x1))\n",
    "    k+=1"
   ]
  },
  {
   "cell_type": "code",
   "execution_count": 105,
   "metadata": {},
   "outputs": [
    {
     "data": {
      "text/plain": [
       "array([-0.14285714,  0.78571429])"
      ]
     },
     "execution_count": 105,
     "metadata": {},
     "output_type": "execute_result"
    }
   ],
   "source": [
    "x1"
   ]
  },
  {
   "cell_type": "markdown",
   "metadata": {},
   "source": [
    "Despite varying the initial conditions, the newton's method converges in a single iteration due to its quadratic convergence rate and therefore does not generate a convergence plot. However the Gradient descent method takes multiple iterations as shown from the plot above. This is due to the linear convergence, and varies on the initial condition, and error tolerance, but does not depend on the value of t. The plot is not an exact straight line due to the fact that the line search method is inexact in nature. "
   ]
  }
 ],
 "metadata": {
  "kernelspec": {
   "display_name": "Python 3.7.9 64-bit",
   "language": "python",
   "name": "python3"
  },
  "language_info": {
   "codemirror_mode": {
    "name": "ipython",
    "version": 3
   },
   "file_extension": ".py",
   "mimetype": "text/x-python",
   "name": "python",
   "nbconvert_exporter": "python",
   "pygments_lexer": "ipython3",
   "version": "3.7.9"
  },
  "orig_nbformat": 4,
  "vscode": {
   "interpreter": {
    "hash": "31216074d53941747ccb49aac3d9812a7d07dea7634ac5a613062de5e25bad62"
   }
  }
 },
 "nbformat": 4,
 "nbformat_minor": 2
}
