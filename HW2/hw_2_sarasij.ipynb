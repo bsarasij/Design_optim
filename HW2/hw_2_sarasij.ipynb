{
 "cells": [
  {
   "cell_type": "markdown",
   "metadata": {},
   "source": [
    "## Gradient Descent"
   ]
  },
  {
   "cell_type": "code",
   "execution_count": 50,
   "metadata": {},
   "outputs": [],
   "source": [
    "\n",
    "import numpy as np\n",
    "\n",
    "def objective(x): \n",
    "    return (2 - 2*x[0] - 3*x[1])**2 + (x[0])**2 + (x[1] - 1)**2  # Objective function for the unconstrained problem\n",
    "def gradient(x): \n",
    "    return np.array([ 10*x[0]+12*x[1]-8, 12*x[0]+20*x[1]-14])  \n",
    "def hessian(x): \n",
    "    return np.array([[10,12],[12,20]])"
   ]
  },
  {
   "cell_type": "code",
   "execution_count": 51,
   "metadata": {},
   "outputs": [],
   "source": [
    "eps = 1e-7  # tolerance\n",
    "x0 = [10 , 20]  # initial value\n",
    "\n",
    "k_max=50\n",
    "t=0.8\n",
    "x_val=[]\n",
    "obj_val=[]\n",
    "grad_val=[]\n"
   ]
  },
  {
   "cell_type": "code",
   "execution_count": 52,
   "metadata": {},
   "outputs": [],
   "source": [
    "\n",
    "\n",
    "def phi(x,alpha):\n",
    "   return objective(x) - (t * np.matmul(gradient(x).T,gradient(x)) * alpha)\n",
    "\n",
    "def alpha_update(x):\n",
    "    alpha = 1\n",
    "    k = 0  \n",
    "    while objective(x - alpha*gradient(x)) > phi(x,alpha) and k<k_max: # Gradient descent algorithm\n",
    "        alpha = 0.5 * alpha\n",
    "        k=k+1\n",
    "    return alpha\n",
    "#\n",
    "\n",
    "while np.linalg.norm(gradient(x0))>eps :\n",
    "    x_val.append(x0)\n",
    "    grad_val.append(np.linalg.norm(gradient(x0)))\n",
    "    obj_val.append(objective(x0))\n",
    "    \n",
    "    alpha=alpha_update(x0)\n",
    "    x0=x0-alpha*gradient(x0)\n",
    "\n",
    "\n",
    "\n"
   ]
  },
  {
   "cell_type": "code",
   "execution_count": 53,
   "metadata": {},
   "outputs": [
    {
     "data": {
      "image/png": "[encoded data removed]",
      "text/plain": [
       "<Figure size 640x480 with 1 Axes>"
      ]
     },
     "metadata": {},
     "output_type": "display_data"
    }
   ],
   "source": [
    "import matplotlib.pyplot as plt\n",
    "plt.plot(np.arange(len(grad_val)),np.abs(obj_val-obj_val[-1]))\n",
    "plt.yscale('log')"
   ]
  },
  {
   "cell_type": "code",
   "execution_count": 54,
   "metadata": {},
   "outputs": [
    {
     "data": {
      "text/plain": [
       "array([-0.14285718,  0.78571431])"
      ]
     },
     "execution_count": 54,
     "metadata": {},
     "output_type": "execute_result"
    }
   ],
   "source": [
    "x0"
   ]
  },
  {
   "cell_type": "code",
   "execution_count": 70,
   "metadata": {},
   "outputs": [],
   "source": [
    "eps = 1e-7  # tolerance\n",
    "x0 = np.array([10 , 20])\n",
    "x1=np.array([0 , 0])\n",
    "k=0"
   ]
  },
  {
   "cell_type": "code",
   "execution_count": 71,
   "metadata": {},
   "outputs": [],
   "source": [
    "while np.linalg.norm(x1-x0)>eps and k<k_max:\n",
    "    k+=1\n",
    "    x1=x0-np.matmul(np.linalg.inv(hessian(x0)),gradient(x0))"
   ]
  },
  {
   "cell_type": "code",
   "execution_count": 72,
   "metadata": {},
   "outputs": [
    {
     "data": {
      "text/plain": [
       "array([-0.14285714,  0.78571429])"
      ]
     },
     "execution_count": 72,
     "metadata": {},
     "output_type": "execute_result"
    }
   ],
   "source": [
    "x1"
   ]
  }
 ],
 "metadata": {
  "kernelspec": {
   "display_name": "Python 3.7.9 64-bit",
   "language": "python",
   "name": "python3"
  },
  "language_info": {
   "codemirror_mode": {
    "name": "ipython",
    "version": 3
   },
   "file_extension": ".py",
   "mimetype": "text/x-python",
   "name": "python",
   "nbconvert_exporter": "python",
   "pygments_lexer": "ipython3",
   "version": "3.7.9"
  },
  "orig_nbformat": 4,
  "vscode": {
   "interpreter": {
    "hash": "31216074d53941747ccb49aac3d9812a7d07dea7634ac5a613062de5e25bad62"
   }
  }
 },
 "nbformat": 4,
 "nbformat_minor": 2
}
