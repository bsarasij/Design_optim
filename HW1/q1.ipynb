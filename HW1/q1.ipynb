{
 "cells": [
  {
   "cell_type": "markdown",
   "metadata": {},
   "source": [
    "Question 1"
   ]
  },
  {
   "cell_type": "code",
   "execution_count": 18,
   "metadata": {},
   "outputs": [],
   "source": [
    "import numpy as np\n",
    "from scipy.optimize import minimize "
   ]
  },
  {
   "cell_type": "markdown",
   "metadata": {},
   "source": [
    "Define Objective Function and Constraints"
   ]
  },
  {
   "cell_type": "code",
   "execution_count": 19,
   "metadata": {},
   "outputs": [],
   "source": [
    "def objective(x): \n",
    "    return (x[0]-x[1])**2+(x[1]+x[2]-2)**2+(x[3]-1)**2+(x[4]-1)**2\n",
    "def constraint1(x):\n",
    "    return x[0]+3*x[2]\n",
    "def constraint2(x):\n",
    "    return x[2]+x[3]-2*x[4]\n",
    "def constraint3(x):\n",
    "    return x[1]-x[4]\n"
   ]
  },
  {
   "cell_type": "markdown",
   "metadata": {},
   "source": [
    " Specify Initial values"
   ]
  },
  {
   "cell_type": "code",
   "execution_count": 20,
   "metadata": {},
   "outputs": [],
   "source": [
    "x0=[-10,-10,-10,-10,-10]"
   ]
  },
  {
   "cell_type": "markdown",
   "metadata": {},
   "source": [
    "Specify bounds and type of constraints"
   ]
  },
  {
   "cell_type": "code",
   "execution_count": 21,
   "metadata": {},
   "outputs": [],
   "source": [
    "b=[-10.0,10.0]\n",
    "bnds=(b,b,b,b,b)\n",
    "con1= {'type': 'eq', 'fun': constraint1}\n",
    "con2= {'type': 'eq', 'fun': constraint2}\n",
    "con3= {'type': 'eq', 'fun': constraint3}\n",
    "cons=[con1,con2,con3]"
   ]
  },
  {
   "cell_type": "markdown",
   "metadata": {},
   "source": [
    "Generate solution"
   ]
  },
  {
   "cell_type": "code",
   "execution_count": 22,
   "metadata": {},
   "outputs": [],
   "source": [
    "sol=minimize(objective,x0,method='SLSQP',bounds=bnds, constraints=cons)  "
   ]
  },
  {
   "cell_type": "markdown",
   "metadata": {},
   "source": [
    "Print Solution"
   ]
  },
  {
   "cell_type": "code",
   "execution_count": 23,
   "metadata": {},
   "outputs": [
    {
     "name": "stdout",
     "output_type": "stream",
     "text": [
      "     fun: 2.4109589403706173\n",
      "     jac: array([-1.20576945, -1.42430973, -2.63007921,  0.98606858, -0.54800352])\n",
      " message: 'Optimization terminated successfully'\n",
      "    nfev: 42\n",
      "     nit: 7\n",
      "    njev: 7\n",
      "  status: 0\n",
      " success: True\n",
      "       x: array([ 0.1231135 ,  0.72599822, -0.04103783,  1.49303428,  0.72599822])\n"
     ]
    }
   ],
   "source": [
    "print (sol)"
   ]
  },
  {
   "cell_type": "markdown",
   "metadata": {},
   "source": [
    "The function is minimized at  x=[ 0.12328766,  0.72602739, -0.04109589,  1.49315067,  0.72602739] with the value fun=2.41095890410959 with an initial value of x0=[0 0 0 0 0]. Changing the value to x0=[1 2 3 4 5] or to any other initial value does not alter the solution. This is an indication that the minima is global and the optimization problem is convex in nature"
   ]
  }
 ],
 "metadata": {
  "kernelspec": {
   "display_name": "Python 3.7.9 64-bit",
   "language": "python",
   "name": "python3"
  },
  "language_info": {
   "codemirror_mode": {
    "name": "ipython",
    "version": 3
   },
   "file_extension": ".py",
   "mimetype": "text/x-python",
   "name": "python",
   "nbconvert_exporter": "python",
   "pygments_lexer": "ipython3",
   "version": "3.7.9"
  },
  "orig_nbformat": 4,
  "vscode": {
   "interpreter": {
    "hash": "31216074d53941747ccb49aac3d9812a7d07dea7634ac5a613062de5e25bad62"
   }
  }
 },
 "nbformat": 4,
 "nbformat_minor": 2
}
