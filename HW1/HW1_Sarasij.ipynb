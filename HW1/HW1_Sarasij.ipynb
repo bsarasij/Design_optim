{
 "cells": [
  {
   "cell_type": "markdown",
   "metadata": {},
   "source": [
    "# HW1"
   ]
  },
  {
   "cell_type": "markdown",
   "metadata": {},
   "source": [
    "## Question 1"
   ]
  },
  {
   "cell_type": "code",
   "execution_count": 56,
   "metadata": {},
   "outputs": [],
   "source": [
    "import numpy as np\n",
    "from scipy.optimize import minimize "
   ]
  },
  {
   "cell_type": "markdown",
   "metadata": {},
   "source": [
    "Define Objective Function and Constraints"
   ]
  },
  {
   "cell_type": "code",
   "execution_count": 57,
   "metadata": {},
   "outputs": [],
   "source": [
    "def objective(x): \n",
    "    return (x[0]-x[1])**2+(x[1]+x[2]-2)**2+(x[3]-1)**2+(x[4]-1)**2\n",
    "def constraint1(x):\n",
    "    return x[0]+3*x[2]\n",
    "def constraint2(x):\n",
    "    return x[2]+x[3]-2*x[4]\n",
    "def constraint3(x):\n",
    "    return x[1]-x[4]\n"
   ]
  },
  {
   "cell_type": "markdown",
   "metadata": {},
   "source": [
    " Specify Initial values"
   ]
  },
  {
   "cell_type": "code",
   "execution_count": 58,
   "metadata": {},
   "outputs": [],
   "source": [
    "x0=[-10,-10,-10,-10,-10]"
   ]
  },
  {
   "cell_type": "markdown",
   "metadata": {},
   "source": [
    "Specify bounds and type of constraints"
   ]
  },
  {
   "cell_type": "code",
   "execution_count": 59,
   "metadata": {},
   "outputs": [],
   "source": [
    "b=[-10.0,10.0]\n",
    "bnds=(b,b,b,b,b)\n",
    "con1= {'type': 'eq', 'fun': constraint1}\n",
    "con2= {'type': 'eq', 'fun': constraint2}\n",
    "con3= {'type': 'eq', 'fun': constraint3}\n",
    "cons=[con1,con2,con3]"
   ]
  },
  {
   "cell_type": "markdown",
   "metadata": {},
   "source": [
    "Generate solution"
   ]
  },
  {
   "cell_type": "code",
   "execution_count": 60,
   "metadata": {},
   "outputs": [],
   "source": [
    "sol=minimize(objective,x0,method='SLSQP',bounds=bnds, constraints=cons)  "
   ]
  },
  {
   "cell_type": "markdown",
   "metadata": {},
   "source": [
    "Print Solution"
   ]
  },
  {
   "cell_type": "code",
   "execution_count": 61,
   "metadata": {},
   "outputs": [
    {
     "name": "stdout",
     "output_type": "stream",
     "text": [
      "     fun: 2.4109589403706173\n",
      "     jac: array([-1.20576945, -1.42430973, -2.63007921,  0.98606858, -0.54800352])\n",
      " message: 'Optimization terminated successfully'\n",
      "    nfev: 42\n",
      "     nit: 7\n",
      "    njev: 7\n",
      "  status: 0\n",
      " success: True\n",
      "       x: array([ 0.1231135 ,  0.72599822, -0.04103783,  1.49303428,  0.72599822])\n"
     ]
    }
   ],
   "source": [
    "print (sol)"
   ]
  },
  {
   "cell_type": "markdown",
   "metadata": {},
   "source": [
    "The function is minimized at  x=[ 0.12328766,  0.72602739, -0.04109589,  1.49315067,  0.72602739] with the value fun=2.41095890410959 for an initial value of x0=[0 0 0 0 0]. Changing the value to x0=[1 2 3 4 5] or to any other initial value within the bounds does not alter the solution. This is an indication that the minima is global and the optimization problem is convex in nature"
   ]
  },
  {
   "cell_type": "markdown",
   "metadata": {},
   "source": [
    "## Question 2"
   ]
  },
  {
   "cell_type": "markdown",
   "metadata": {},
   "source": [
    "$ f(x)=b^{T}x+x^{T}Ax $\n",
    "\n",
    "(a) Gradient = $\\nabla f(x)$ = b + 2Ax. <br />\n",
    "Hessian = 2A\n",
    "\n",
    "(b) First-Order Taylor Expansion:\n",
    " $ f(x) = f(x_{0})+ (\\nabla f(x_{0}))^T (x-x_{0}) $ <br />\n",
    " At $x_{0}$=0, $f(0)=0$ and $\\nabla f(0)=b+2A*0=b$ <br />\n",
    " Therefore $f(x)=0+b^{T}x=b^{T}x$ <br />\n",
    "\n",
    " Second-Order Taylor Expansion: \n",
    " $ f(x) = f(x_{0})+ (\\nabla f(x_{0}))^T (x-x_{0}) + \\frac{1}{2} (x-x_{0})^T H (x-x_{0})  $ <br />\n",
    " At $x_{0}$=0, $f(x)=0+(b)^T x+\\frac{1}{2} (x)^T 2A x=b^{T}x + x^T A x$ <br />\n",
    " \n",
    " Clearly the function is quadratic in nature. Therefore the second-order taylor expansion is exact while the first order expansion is an approximation. \n",
    "\n",
    " (c) A is positive definite if all the eigenvalues of A are positive in nature (necessary and sufficient)\n",
    "\n",
    " (d) A necessary and sufficient condition for A to have a full rank is for it to have a full row and column rank(The rows are independent and the columns are independent). In other words it must be non-.\n",
    "\n",
    " (e) y belongs to the nullspace of $A^{T}$. Therefore $b$ must be orthogonal to $y$ for $Ax=b$ to have a solution. Therefore b must belong to row space of $A^{T}$ or in other words, column space of A\n"
   ]
  },
  {
   "cell_type": "markdown",
   "metadata": {},
   "source": [
    "## Question 3\n",
    "\n",
    "Let $x_{i}$ = Amount of $i^{th}$ food purchased <br />\n",
    "    $c_{i}$ = Cost of 1 unit of $i^{th}$ food <br />\n",
    "    $a_{ij}$ = Amount of $j^{th}$ nutrient in unit amount of $i^{th}$ food <br />\n",
    "    $b_{j}$ = Necessary quantity of $j^{th}$ nutrient for a month <br />\n",
    "\n",
    "Cost of overall food purchased for a month = $ \\sum_{i=1}^{\\N} c_{i}x_{i} $ <br />\n",
    "Overall nutrients gained from total food purchase =  $ \\sum_{i=1}^{\\N} a_{ij}x_{i} $\n",
    "\n",
    "Thus the overall optimization problem can be formulated as : <br />\n",
    "\n",
    "Minimize $ \\sum_{i=1}^{\\N} c_{i}x_{i} $ <br />\n",
    "Subject to  $ \\sum_{i=1}^{\\N} a_{ij}x_{i} \\geq b_{j}$ \n",
    "\n"
   ]
  }
 ],
 "metadata": {
  "kernelspec": {
   "display_name": "Python 3.7.9 64-bit",
   "language": "python",
   "name": "python3"
  },
  "language_info": {
   "codemirror_mode": {
    "name": "ipython",
    "version": 3
   },
   "file_extension": ".py",
   "mimetype": "text/x-python",
   "name": "python",
   "nbconvert_exporter": "python",
   "pygments_lexer": "ipython3",
   "version": "3.7.9"
  },
  "orig_nbformat": 4,
  "vscode": {
   "interpreter": {
    "hash": "31216074d53941747ccb49aac3d9812a7d07dea7634ac5a613062de5e25bad62"
   }
  }
 },
 "nbformat": 4,
 "nbformat_minor": 2
}
