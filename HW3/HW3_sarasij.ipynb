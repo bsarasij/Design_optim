{
 "cells": [
  {
   "cell_type": "markdown",
   "metadata": {},
   "source": [
    "## HW 3\n",
    "\n",
    "##### Sarasij Banerjee"
   ]
  },
  {
   "cell_type": "markdown",
   "metadata": {},
   "source": [
    "## Question 1\n",
    "\n",
    "The target is to generate a model that fits the observed data with minimum error. The parameters to be optimized are $A_{12}$ and $A_{21}$. Therefore the optimization problem can be formulated as $min "
   ]
  },
  {
   "cell_type": "code",
   "execution_count": 4,
   "metadata": {},
   "outputs": [
    {
     "name": "stdout",
     "output_type": "stream",
     "text": [
      "Optimal Values of A_12 (1.9579263925552368) and A_21 (1.6895899772644043)\n",
      "fOptimal objective value:  0.67021877\n"
     ]
    }
   ],
   "source": [
    "\n",
    "import torch as tor\n",
    "import matplotlib.pyplot as plt\n",
    "from torch.autograd import Variable\n",
    "import numpy as np\n",
    "T = 20\n",
    "x1 = np.linspace(0,1,11)\n",
    "x2 = np.linspace(1,0,11)\n",
    "a_w = np.array([8.07131, 1730.63, 233.426])\n",
    "a_d = np.array([7.43155, 1554.679, 240.337])\n",
    "p_w = 10**(a_w[0] - a_w[1]/(T + a_w[2]))\n",
    "p_d = 10**(a_d[0] - a_d[1]/(T + a_d[2]))\n",
    "P = np.array([28.1, 34.4, 36.7, 36.9, 36.8, 36.7, 36.5, 35.4, 32.9, 27.7, 17.5])\n",
    "\n",
    "x1 = tor.tensor(x1, requires_grad=False, dtype=tor.float32)\n",
    "x2 = tor.tensor(x2, requires_grad=False, dtype=tor.float32)\n",
    "\n",
    "A = Variable(tor.tensor([1.0, 1.0]),requires_grad = True)\n",
    "P = tor.tensor(P, requires_grad=False, dtype=tor.float32)\n",
    "\n",
    "alpha = 0.001\n",
    "\n",
    "for i in range(50):\n",
    "    P_pred = x1 * tor.exp(A[0] * (A[1] * x2/(A[0] * x1 + A[1] * x2))**2) * p_w +\\\n",
    "        x2*tor.exp(A[1]*(A[0]*x1/(A[0]*x1 + A[1]*x2))**2) * p_d\n",
    "\n",
    "    obj = (P_pred - P)**2\n",
    "    obj = obj.sum()\n",
    "    obj.backward()\n",
    "\n",
    "    with tor.no_grad():\n",
    "        A -= alpha*A.grad\n",
    "        A.grad.zero_()\n",
    "\n",
    "print('Optimal Values of A_12 ({}) and A_21 ({})'.format(A[0],A[1]))\n",
    "print('fOptimal objective value: ',obj.data.numpy())\n",
    "\n"
   ]
  },
  {
   "cell_type": "code",
   "execution_count": 5,
   "metadata": {},
   "outputs": [
    {
     "name": "stdout",
     "output_type": "stream",
     "text": [
      "[28.824099 34.641956 36.451256 36.86612  36.872917 36.748806 36.389854\n",
      " 35.385315 32.949852 27.733002 17.473251]\n"
     ]
    },
    {
     "data": {
      "image/png": "[encoded data removed]",
      "text/plain": [
       "<Figure size 640x480 with 1 Axes>"
      ]
     },
     "metadata": {},
     "output_type": "display_data"
    }
   ],
   "source": [
    "P_pr_plt = P_pred.detach().numpy()\n",
    "P_plot = P.detach().numpy()\n",
    "x1 = x1.detach().numpy()\n",
    "print(P_pr_plt)\n",
    "\n",
    "plt.plot(x1,P_pr_plt)\n",
    "plt.plot(x1,P_plot)\n",
    "plt.show()"
   ]
  },
  {
   "cell_type": "markdown",
   "metadata": {},
   "source": [
    "From the results above, it is clearly visible that the predicted model provides a high fit to the obvserved dataset. This is also supported by the low value of the loss function ($e=0.67$) corresponding to the optimal values. "
   ]
  },
  {
   "cell_type": "markdown",
   "metadata": {},
   "source": [
    "## Question 2:"
   ]
  },
  {
   "cell_type": "code",
   "execution_count": 7,
   "metadata": {},
   "outputs": [],
   "source": [
    "## problem 2:\n",
    "\n",
    "import numpy as np\n",
    "from bayes_opt import BayesianOptimization\n",
    "\n",
    "def obj_function(x,y):\n",
    "    obj = (4 - 2.1*x**2 + (x**4)/3)*x**2 + x*y +  (-4 + 4*y**2)*y**2\n",
    "    return -obj\n",
    "\n",
    "pbounds = {'x': (-3, 3), 'y': (-2, 2)}\n",
    "\n",
    "optimizer = BayesianOptimization(\n",
    "    f=obj_function,\n",
    "    pbounds=pbounds,\n",
    "    random_state=1,\n",
    ")\n"
   ]
  },
  {
   "cell_type": "code",
   "execution_count": 2,
   "metadata": {},
   "outputs": [
    {
     "name": "stdout",
     "output_type": "stream",
     "text": [
      "Collecting git+https://github.com/fmfn/BayesianOptimization\n",
      "  Cloning https://github.com/fmfn/BayesianOptimization to c:\\users\\baner\\appdata\\local\\temp\\pip-req-build-eqnkhqmw\n",
      "  Resolved https://github.com/fmfn/BayesianOptimization to commit 05941f75134165506eeb750fb5fc94f4d5668d5c\n",
      "Requirement already satisfied: numpy>=1.9.0 in c:\\users\\baner\\anaconda3\\lib\\site-packages (from bayesian-optimization==1.3.0) (1.21.5)\n",
      "Requirement already satisfied: scipy>=1.0.0 in c:\\users\\baner\\anaconda3\\lib\\site-packages (from bayesian-optimization==1.3.0) (1.7.3)\n",
      "Requirement already satisfied: scikit-learn>=0.18.0 in c:\\users\\baner\\anaconda3\\lib\\site-packages (from bayesian-optimization==1.3.0) (1.0.2)\n",
      "Requirement already satisfied: joblib>=0.11 in c:\\users\\baner\\anaconda3\\lib\\site-packages (from scikit-learn>=0.18.0->bayesian-optimization==1.3.0) (1.1.0)\n",
      "Requirement already satisfied: threadpoolctl>=2.0.0 in c:\\users\\baner\\anaconda3\\lib\\site-packages (from scikit-learn>=0.18.0->bayesian-optimization==1.3.0) (2.2.0)\n",
      "Building wheels for collected packages: bayesian-optimization\n",
      "Note: you may need to restart the kernel to use updated packages.  Building wheel for bayesian-optimization (setup.py): started\n"
     ]
    },
    {
     "name": "stderr",
     "output_type": "stream",
     "text": [
      "  Running command git clone -q https://github.com/fmfn/BayesianOptimization 'C:\\Users\\baner\\AppData\\Local\\Temp\\pip-req-build-eqnkhqmw'\n"
     ]
    },
    {
     "name": "stdout",
     "output_type": "stream",
     "text": [
      "\n",
      "  Building wheel for bayesian-optimization (setup.py): finished with status 'done'\n",
      "  Created wheel for bayesian-optimization: filename=bayesian_optimization-1.3.0-py3-none-any.whl size=16868 sha256=5ca86188838241393f2799a959d524cebfb305e49c2326e32f677390974f019c\n",
      "  Stored in directory: C:\\Users\\baner\\AppData\\Local\\Temp\\pip-ephem-wheel-cache-ce3pqdf7\\wheels\\de\\4b\\fc\\ca63ecde7529784254ce89a4c60adafcb973a6b20aa9f18dd4\n",
      "Successfully built bayesian-optimization\n",
      "Installing collected packages: bayesian-optimization\n",
      "Successfully installed bayesian-optimization-1.3.0\n"
     ]
    }
   ],
   "source": []
  },
  {
   "cell_type": "code",
   "execution_count": null,
   "metadata": {},
   "outputs": [],
   "source": []
  }
 ],
 "metadata": {
  "kernelspec": {
   "display_name": "Python 3 (ipykernel)",
   "language": "python",
   "name": "python3"
  },
  "language_info": {
   "codemirror_mode": {
    "name": "ipython",
    "version": 3
   },
   "file_extension": ".py",
   "mimetype": "text/x-python",
   "name": "python",
   "nbconvert_exporter": "python",
   "pygments_lexer": "ipython3",
   "version": "3.9.12"
  },
  "vscode": {
   "interpreter": {
    "hash": "3cb68e53fd17226b6fad64f64726c25fe33ab50a69a2c8283608ad86277af543"
   }
  }
 },
 "nbformat": 4,
 "nbformat_minor": 2
}
